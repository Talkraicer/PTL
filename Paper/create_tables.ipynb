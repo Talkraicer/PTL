{
 "cells": [
  {
   "cell_type": "code",
   "execution_count": 8,
   "id": "initial_id",
   "metadata": {
    "collapsed": true,
    "ExecuteTime": {
     "end_time": "2025-01-18T21:58:41.474057400Z",
     "start_time": "2025-01-18T21:58:41.368584400Z"
    }
   },
   "outputs": [],
   "source": [
    "# Convert a vType table into a pretty one:\n",
    "policy = \"OneVariableControl_threshold_ptl_speed_24.0_60\"\n",
    "import pandas as pd\n",
    "from numpy import arange\n",
    "df = pd.read_pickle(r\"C:\\PTL\\results\\output_results\\network_simple\\Daily12\\timeLoss_vType.pkl\")\n",
    "\n",
    "av_rates = [round(rate,1) for rate in arange(0.1, 1.0, 0.1)]\n",
    "rel_cols = [c for c in df.columns if \"mean\" in c and c[1] in av_rates]\n",
    "\n",
    "temp_df = pd.DataFrame(df[rel_cols].loc[policy]).reset_index()\n",
    "temp_df.columns = [\"Demand\",\"av_rate\",\"vType\",\"stam\",\"APTD\"]\n",
    "temp_df.drop([\"stam\"],inplace=True,axis=1)\n",
    "temp_df[\"vType\"] = temp_df[\"vType\"].apply(lambda x: x.split(\"_\")[0] if \"HD\" in x else x)\n",
    "temp_df = temp_df.groupby([\"Demand\",\"av_rate\",\"vType\"]).mean().reset_index()\n",
    "\n",
    "new_df = pd.DataFrame()\n",
    "for demand in temp_df[\"Demand\"].unique():\n",
    "    for vType in temp_df[\"vType\"].unique():\n",
    "        temp = temp_df[(temp_df[\"Demand\"]==demand) & (temp_df[\"vType\"]==vType)]\n",
    "        temp = temp.set_index(\"av_rate\").drop([\"Demand\",\"vType\"],axis=1).T\n",
    "        temp[\"Demand\"] = demand\n",
    "        temp[\"vType\"] = vType\n",
    "        new_df = pd.concat([new_df,temp])\n",
    "\n",
    "new_df[\"numPass\"] = new_df[\"vType\"].apply(lambda x: x.split(\"_\")[1] if \"AV\" in x else None)\n",
    "new_df[\"vType\"] = new_df[\"vType\"].apply(lambda x: x.split(\"_\")[0])\n",
    "new_df = new_df[[\"Demand\",\"vType\",\"numPass\"]+av_rates].reset_index(drop=True)\n",
    "\n",
    "new_df.to_excel(f\"{policy}.xlsx\")"
   ]
  }
 ],
 "metadata": {
  "kernelspec": {
   "display_name": "Python 3",
   "language": "python",
   "name": "python3"
  },
  "language_info": {
   "codemirror_mode": {
    "name": "ipython",
    "version": 2
   },
   "file_extension": ".py",
   "mimetype": "text/x-python",
   "name": "python",
   "nbconvert_exporter": "python",
   "pygments_lexer": "ipython2",
   "version": "2.7.6"
  }
 },
 "nbformat": 4,
 "nbformat_minor": 5
}
