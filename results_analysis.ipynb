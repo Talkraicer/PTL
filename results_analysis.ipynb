{
 "cells": [
  {
   "cell_type": "code",
   "execution_count": 3,
   "id": "initial_id",
   "metadata": {
    "collapsed": true,
    "ExecuteTime": {
     "end_time": "2024-10-20T15:39:24.342195100Z",
     "start_time": "2024-10-20T15:39:24.320911600Z"
    }
   },
   "outputs": [],
   "source": [
    "import pandas as pd\n",
    "import numpy as np\n",
    "import matplotlib.pyplot as plt\n",
    "import seaborn as sns\n",
    "import os\n",
    "from Results.parse_exp_results import ResultsParser"
   ]
  },
  {
   "cell_type": "code",
   "outputs": [],
   "source": [
    "results_folder = \"SUMO/outputs\""
   ],
   "metadata": {
    "collapsed": false,
    "ExecuteTime": {
     "end_time": "2024-10-20T15:39:27.029649400Z",
     "start_time": "2024-10-20T15:39:27.024116900Z"
    }
   },
   "id": "c07ba8ad9b8f5a72",
   "execution_count": 4
  },
  {
   "cell_type": "code",
   "outputs": [],
   "source": [
    "for av_rate in os.listdir(results_folder):\n",
    "    av_rate_folder = os.path.join(results_folder,av_rate)\n",
    "    for seed in os.listdir(av_rate_folder):\n",
    "        seed_folder = os.path.join(av_rate_folder,seed)\n",
    "        experiments = list(set(map(lambda x: x.split(\".\")[0],os.listdir(seed_folder))))\n",
    "        for experiment in experiments:\n",
    "            exp_path = os.path.join(seed_folder,experiment)\n",
    "            ResultsParser(exp_path+\".xml\",logger_output_file=exp_path+\".csv\")\n",
    "            "
   ],
   "metadata": {
    "collapsed": false
   },
   "id": "4a0ec7cf53c9b26d"
  }
 ],
 "metadata": {
  "kernelspec": {
   "display_name": "Python 3",
   "language": "python",
   "name": "python3"
  },
  "language_info": {
   "codemirror_mode": {
    "name": "ipython",
    "version": 2
   },
   "file_extension": ".py",
   "mimetype": "text/x-python",
   "name": "python",
   "nbconvert_exporter": "python",
   "pygments_lexer": "ipython2",
   "version": "2.7.6"
  }
 },
 "nbformat": 4,
 "nbformat_minor": 5
}
